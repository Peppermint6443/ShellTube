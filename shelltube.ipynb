{
 "cells": [
  {
   "cell_type": "code",
   "execution_count": 1,
   "metadata": {},
   "outputs": [],
   "source": [
    "import numpy as np\n",
    "import matplotlib.pyplot as plt\n",
    "import pandas as pd\n",
    "\n",
    "import scipy.optimize as opt\n",
    "from scipy.integrate import odeint, quad\n",
    "from scipy.interpolate import interp1d\n",
    "from scipy.optimize import curve_fit\n",
    "\n",
    "from pathlib import Path\n",
    "import os\n",
    "import sys"
   ]
  },
  {
   "cell_type": "code",
   "execution_count": null,
   "metadata": {},
   "outputs": [],
   "source": [
    "# ----- Constants ----- #\n",
    "# heat exchanger physical parameters\n",
    "di = \n",
    "do = \n",
    "L = \n",
    "\n",
    "# calculate the heat transfer area\n",
    "Ai = .25 * np.pi * di**2\n",
    "Ao = .25 * np.pi * do**2\n",
    "\n",
    "# ----- Functions ----- #\n",
    "def hi():\n",
    "    return\n",
    "\n",
    "def ho():\n",
    "    return\n",
    "\n",
    "def model(Qs,Rfi,Rfo):\n",
    "    Qi,Qo = Qs\n",
    "    #                       |                 |                                  |                 |\n",
    "    #      convection_inner | fouling_inner   |             conduction           |  fouling_outer  | convection_outer\n",
    "    #                       |                 |                                  |                 |\n",
    "    sumR = (hi(Qi) * Ai)**-1 + (Rfi / Ai) + (np.log(do / di) / (2 * np.pi * k * L)) + (Rfo / Ao) + (ho(Qo) / Ao)**-1\n",
    "\n",
    "    return mdot * Cp * sumR"
   ]
  },
  {
   "cell_type": "markdown",
   "metadata": {},
   "source": [
    "$$UA = (\\Sigma R)^-1 = \\frac{1}{h_i(\\dot V)A_i} + \\frac{R_{f,i}^\"}{A_i} + \\frac{ln(d_o / d_i)}{2\\pi kL}+ \\frac{R_{f,o}^\"}{A_o} + \\frac{1}{h_o(\\dot V)A_o}$$"
   ]
  }
 ],
 "metadata": {
  "kernelspec": {
   "display_name": "Python 3",
   "language": "python",
   "name": "python3"
  },
  "language_info": {
   "codemirror_mode": {
    "name": "ipython",
    "version": 3
   },
   "file_extension": ".py",
   "mimetype": "text/x-python",
   "name": "python",
   "nbconvert_exporter": "python",
   "pygments_lexer": "ipython3",
   "version": "3.12.9"
  }
 },
 "nbformat": 4,
 "nbformat_minor": 2
}
