{
 "cells": [
  {
   "cell_type": "code",
   "execution_count": 26,
   "metadata": {},
   "outputs": [],
   "source": [
    "import numpy as np\n",
    "import matplotlib.pyplot as plt\n",
    "import pandas as pd\n",
    "\n",
    "import scipy.optimize as opt\n",
    "from scipy.integrate import odeint, quad\n",
    "from scipy.interpolate import interp1d\n",
    "from scipy.optimize import curve_fit\n",
    "\n",
    "from pathlib import Path\n",
    "import os\n",
    "import sys\n",
    "from byutpl.properties import water as water"
   ]
  },
  {
   "cell_type": "code",
   "execution_count": 27,
   "metadata": {},
   "outputs": [],
   "source": [
    "# ----- Constants ----- #\n",
    "# heat exchanger physical parameters\n",
    "di = .206 * 2.54 / 100                  # m\n",
    "do = .25 * 2.54 / 100                   # m\n",
    "L = 14 * 2.54 / 100                     # m\n",
    "k = 13.4                                # W/m.K 316 SS\n",
    "g = 9.81                                # m/s^2\n",
    "N = 56                                  # number of tubes    \n",
    "\n",
    "# calculate the heat transfer area\n",
    "Ai = .25 * np.pi * di**2\n",
    "Ao = .25 * np.pi * do**2\n",
    "\n",
    "# ----- Functions ----- #\n",
    "def hi(Qi,Ti):\n",
    "    # calculate the velocity\n",
    "    v = Qi / Ai\n",
    "\n",
    "    # calculate the Reynolds number\n",
    "    Re = water.ldn(Ti) * v * di / water.lvs(Ti)\n",
    "\n",
    "    # calculate the Nusselt number\n",
    "    if Re < 10000:\n",
    "        Nu = 3.66\n",
    "    else:\n",
    "        Nu = .023 * (Re**.8) * water.lpr(Ti)**.4\n",
    "\n",
    "    # calculate heat transfer coefficient\n",
    "    h = Nu * water.ltc(Ti) / di\n",
    "    return h\n",
    "\n",
    "def ho(Ps,Ts):\n",
    "    # pull in the values\n",
    "    rhol = water.ldn(Ts)\n",
    "    rhov = water.vdn(Ts,Ps)\n",
    "    kl = water.ltc(Ts)\n",
    "    mul = water.lvs(Ts)\n",
    "    Tsat = water.tsat(Ps)\n",
    "    cpl = water.lcp(Ts) / water.mw\n",
    "    hfg = water.hvp(Ts) / water.mw\n",
    "\n",
    "    # find Ja\n",
    "    Ja = cpl * (Tsat - Ts) / hfg\n",
    "\n",
    "    # calculate the condensation energy\n",
    "    hfp = hfg * (1 + (.68 * Ja))\n",
    "\n",
    "    # calculate the heat transfer coefficient\n",
    "    h = .729 * (rhol * g * (rhol - rhov) * hfp * kl**3 / (N * mul * (Tsat - Ts) * do))**.25\n",
    "    return h\n",
    "\n",
    "hi_vec = np.vectorize(hi)\n",
    "ho_vec = np.vectorize(ho)\n",
    "\n",
    "\n",
    "def model(inputs,Rf):\n",
    "    Qwd,Psd,Tweffd = inputs\n",
    "\n",
    "    #                       |                 |                                 |\n",
    "    #      convection_inner | fouling_inner   |             conduction          | convection_outer\n",
    "    #                       |                 |                                 |\n",
    "    UA = ((hi_vec(Qwd, Tweffd) * Ai)**-1 + (Rf / Ai) + (np.log(do / di) / (2 * np.pi * k * L)) + (ho_vec(Psd, Tweffd) / Ao)**-1)**-1\n",
    "    # print(UA)\n",
    "    return UA\n",
    "\n",
    "# def model(Qw,Ps,Tweff,Rf):\n",
    "\n",
    "#     #                       |                 |                                 |\n",
    "#     #      convection_inner | fouling_inner   |             conduction          | convection_outer\n",
    "#     #                       |                 |                                 |\n",
    "#     UA = ((hi(Qw, Tweff) * Ai)**-1 + (Rf / Ai) + (np.log(do / di) / (2 * np.pi * k * L)) + (ho(Ps, Tweff) / Ao)**-1)**-1\n",
    "#     return UA\n",
    "\n",
    "# model = np.vectorize(model)\n",
    "\n",
    "# correlation for if we want to try to fit both fouling factors\n",
    "\n",
    "# Qi,Qo = Qs\n",
    "# #                       |                 |                                  |                 |\n",
    "# #      convection_inner | fouling_inner   |             conduction           |  fouling_outer  | convection_outer\n",
    "# #                       |                 |                                  |                 |\n",
    "# sumR = (hi(Qi) * Ai)**-1 + (Rfi / Ai) + (np.log(do / di) / (2 * np.pi * k * L)) + (Rfo / Ao) + (ho(Qo) / Ao)**-1"
   ]
  },
  {
   "cell_type": "markdown",
   "metadata": {},
   "source": [
    "$$UA = (\\Sigma R)^{-1} = \\frac{1}{h_i(\\dot V)A_i} + \\frac{R_{f,i}^\"}{A_i} + \\frac{ln(d_o / d_i)}{2\\pi kL}+ \\frac{R_{f,o}^\"}{A_o} + \\frac{1}{h_o(\\dot V)A_o}$$"
   ]
  },
  {
   "cell_type": "code",
   "execution_count": 28,
   "metadata": {},
   "outputs": [
    {
     "name": "stdout",
     "output_type": "stream",
     "text": [
      "Index(['Time (sec)', 'Water Level (ft)', 'Water Flowrate (GPM)',\n",
      "       'House Steam Pressure (psig)', 'Steam Pressure (psig)',\n",
      "       'Inlet Water Temperature (C)', 'Outlet Water Temperature (C)',\n",
      "       'Makeup Temperature (C)', 'Makeup Flowrate (L/min)',\n",
      "       'Ambient Temperature (C)', 'Ambient Pressure (kPa)',\n",
      "       'Flow Setpoint (GPM)', 'Flow Control Output (%)', 'Level Setpoint (ft)',\n",
      "       'Level Control Output (%)', 'Steam Setpoint (psig)',\n",
      "       'Steam Control Output (%)', 'Tube-Side Pressure Drop (psig)'],\n",
      "      dtype='object')\n"
     ]
    }
   ],
   "source": [
    "data1 = pd.read_csv('data/Trial1.csv')\n",
    "data2 = pd.read_csv('data/Trial2.csv')\n",
    "data3 = pd.read_csv('data/Trial3.csv')\n",
    "data4 = pd.read_csv('data/Trial4.csv')\n",
    "data5 = pd.read_csv('data/Trial5.csv')\n",
    "data6 = pd.read_csv('data/Trial6.csv')\n",
    "data7 = pd.read_csv('data/Trial7.csv')\n",
    "\n",
    "data_collection = np.array([data1,data2,data3,data4,data5,data6,data7])\n",
    "\n",
    "print(data1.keys())"
   ]
  },
  {
   "cell_type": "code",
   "execution_count": null,
   "metadata": {},
   "outputs": [],
   "source": [
    "qs = np.array([])\n",
    "Twout = np.array([])\n",
    "Twin = np.array([])\n",
    "Ps = np.array([])\n",
    "\n",
    "for i, df in enumerate(data_collection):\n",
    "    qs = np.append(qs,df[:,2])\n",
    "    Twout = np.append(Twout,df[:,6])\n",
    "    Twin = np.append(Twin,df[:,5])\n",
    "    Ps = np.append(Ps,df[:,4])\n",
    "\n",
    "    \n",
    "Tavg = (Twout + Twin) / 2\n",
    "\n",
    "# conver the data to SI units\n",
    "qs_good = qs * 6.30901964e-5                # gal/min to m^3/s\n",
    "Ps_good = (Ps + 14.7) * 101325 / 14.7       # psig to Pa\n",
    "Cpw = water.lcp(Tavg + 273.15) / water.mw   # J/kg.K\n",
    "\n",
    "tsat = np.vectorize(water.tsat)\n",
    "\n",
    "Tsat = tsat(Ps_good)\n",
    "\n",
    "# calculate the delta T values\n",
    "dT1 = Tsat - Twout\n",
    "dT2 = Tsat - Twin\n",
    "\n",
    "# calcualate the delta T log mean\n",
    "dTlm = (dT1 - dT2) / np.log(dT1 / dT2)\n",
    "\n",
    "# calculate the mass flow rate of the water \n",
    "rho = water.ldn(Tavg + 273.15)\n",
    "m = qs_good / rho\n",
    "\n",
    "# find the heat transfer\n",
    "Q = -m * Cpw * (Twin - Twout)\n",
    "\n",
    "# calculate the heat transfer coefficient\n",
    "UA = Q / dTlm"
   ]
  },
  {
   "cell_type": "code",
   "execution_count": null,
   "metadata": {},
   "outputs": [
    {
     "name": "stdout",
     "output_type": "stream",
     "text": [
      "0.1413151788747382\n"
     ]
    }
   ],
   "source": [
    "# # fit the data with the model\n",
    "# Rf = curve_fit(model, (qs_good,Ps_good,Tavg + 273.15), UA)\n",
    "\n",
    "xdata = np.array([qs_good, Ps_good, Tavg + 273.15])  # Stack inputs correctly\n",
    "\n",
    "# print(xdata)\n",
    "Rf, _ = curve_fit(model, xdata, UA)\n",
    "Rf = Rf[0]\n",
    "\n",
    "print(Rf)"
   ]
  },
  {
   "cell_type": "code",
   "execution_count": null,
   "metadata": {},
   "outputs": [],
   "source": []
  }
 ],
 "metadata": {
  "kernelspec": {
   "display_name": "Python 3",
   "language": "python",
   "name": "python3"
  },
  "language_info": {
   "codemirror_mode": {
    "name": "ipython",
    "version": 3
   },
   "file_extension": ".py",
   "mimetype": "text/x-python",
   "name": "python",
   "nbconvert_exporter": "python",
   "pygments_lexer": "ipython3",
   "version": "3.12.9"
  }
 },
 "nbformat": 4,
 "nbformat_minor": 2
}
